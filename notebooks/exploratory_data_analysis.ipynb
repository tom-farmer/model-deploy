{
 "cells": [
  {
   "cell_type": "markdown",
   "id": "7e97dca9",
   "metadata": {},
   "source": [
    "# Data Exploration"
   ]
  },
  {
   "cell_type": "markdown",
   "id": "44a5989b",
   "metadata": {},
   "source": [
    "## Packages and Data"
   ]
  },
  {
   "cell_type": "code",
   "execution_count": 1,
   "id": "3f347ac9",
   "metadata": {},
   "outputs": [],
   "source": [
    "import pandas as pd\n",
    "import numpy as np"
   ]
  },
  {
   "cell_type": "code",
   "execution_count": 2,
   "id": "8a3e0524",
   "metadata": {},
   "outputs": [],
   "source": [
    "train = pd.read_csv(\"../data/train.csv\")"
   ]
  },
  {
   "cell_type": "code",
   "execution_count": 9,
   "id": "29c01d1e",
   "metadata": {
    "scrolled": true
   },
   "outputs": [
    {
     "data": {
      "text/plain": [
       "Index(['Id', 'MSSubClass', 'MSZoning', 'LotFrontage', 'LotArea', 'Street',\n",
       "       'Alley', 'LotShape', 'LandContour', 'Utilities', 'LotConfig',\n",
       "       'LandSlope', 'Neighborhood', 'Condition1', 'Condition2', 'BldgType',\n",
       "       'HouseStyle', 'OverallQual', 'OverallCond', 'YearBuilt', 'YearRemodAdd',\n",
       "       'RoofStyle', 'RoofMatl', 'Exterior1st', 'Exterior2nd', 'MasVnrType',\n",
       "       'MasVnrArea', 'ExterQual', 'ExterCond', 'Foundation', 'BsmtQual',\n",
       "       'BsmtCond', 'BsmtExposure', 'BsmtFinType1', 'BsmtFinSF1',\n",
       "       'BsmtFinType2', 'BsmtFinSF2', 'BsmtUnfSF', 'TotalBsmtSF', 'Heating',\n",
       "       'HeatingQC', 'CentralAir', 'Electrical', '1stFlrSF', '2ndFlrSF',\n",
       "       'LowQualFinSF', 'GrLivArea', 'BsmtFullBath', 'BsmtHalfBath', 'FullBath',\n",
       "       'HalfBath', 'BedroomAbvGr', 'KitchenAbvGr', 'KitchenQual',\n",
       "       'TotRmsAbvGrd', 'Functional', 'Fireplaces', 'FireplaceQu', 'GarageType',\n",
       "       'GarageYrBlt', 'GarageFinish', 'GarageCars', 'GarageArea', 'GarageQual',\n",
       "       'GarageCond', 'PavedDrive', 'WoodDeckSF', 'OpenPorchSF',\n",
       "       'EnclosedPorch', '3SsnPorch', 'ScreenPorch', 'PoolArea', 'PoolQC',\n",
       "       'Fence', 'MiscFeature', 'MiscVal', 'MoSold', 'YrSold', 'SaleType',\n",
       "       'SaleCondition', 'SalePrice', 'logSalePrice'],\n",
       "      dtype='object')"
      ]
     },
     "execution_count": 9,
     "metadata": {},
     "output_type": "execute_result"
    }
   ],
   "source": [
    "train.columns"
   ]
  },
  {
   "cell_type": "code",
   "execution_count": 14,
   "id": "df90d569",
   "metadata": {},
   "outputs": [
    {
     "data": {
      "text/plain": [
       "{'Id': dtype('int64'),\n",
       " 'MSSubClass': dtype('int64'),\n",
       " 'MSZoning': dtype('O'),\n",
       " 'LotFrontage': dtype('float64'),\n",
       " 'LotArea': dtype('int64'),\n",
       " 'Street': dtype('O'),\n",
       " 'Alley': dtype('O'),\n",
       " 'LotShape': dtype('O'),\n",
       " 'LandContour': dtype('O'),\n",
       " 'Utilities': dtype('O'),\n",
       " 'LotConfig': dtype('O'),\n",
       " 'LandSlope': dtype('O'),\n",
       " 'Neighborhood': dtype('O'),\n",
       " 'Condition1': dtype('O'),\n",
       " 'Condition2': dtype('O'),\n",
       " 'BldgType': dtype('O'),\n",
       " 'HouseStyle': dtype('O'),\n",
       " 'OverallQual': dtype('int64'),\n",
       " 'OverallCond': dtype('int64'),\n",
       " 'YearBuilt': dtype('int64'),\n",
       " 'YearRemodAdd': dtype('int64'),\n",
       " 'RoofStyle': dtype('O'),\n",
       " 'RoofMatl': dtype('O'),\n",
       " 'Exterior1st': dtype('O'),\n",
       " 'Exterior2nd': dtype('O'),\n",
       " 'MasVnrType': dtype('O'),\n",
       " 'MasVnrArea': dtype('float64'),\n",
       " 'ExterQual': dtype('O'),\n",
       " 'ExterCond': dtype('O'),\n",
       " 'Foundation': dtype('O'),\n",
       " 'BsmtQual': dtype('O'),\n",
       " 'BsmtCond': dtype('O'),\n",
       " 'BsmtExposure': dtype('O'),\n",
       " 'BsmtFinType1': dtype('O'),\n",
       " 'BsmtFinSF1': dtype('int64'),\n",
       " 'BsmtFinType2': dtype('O'),\n",
       " 'BsmtFinSF2': dtype('int64'),\n",
       " 'BsmtUnfSF': dtype('int64'),\n",
       " 'TotalBsmtSF': dtype('int64'),\n",
       " 'Heating': dtype('O'),\n",
       " 'HeatingQC': dtype('O'),\n",
       " 'CentralAir': dtype('O'),\n",
       " 'Electrical': dtype('O'),\n",
       " '1stFlrSF': dtype('int64'),\n",
       " '2ndFlrSF': dtype('int64'),\n",
       " 'LowQualFinSF': dtype('int64'),\n",
       " 'GrLivArea': dtype('int64'),\n",
       " 'BsmtFullBath': dtype('int64'),\n",
       " 'BsmtHalfBath': dtype('int64'),\n",
       " 'FullBath': dtype('int64'),\n",
       " 'HalfBath': dtype('int64'),\n",
       " 'BedroomAbvGr': dtype('int64'),\n",
       " 'KitchenAbvGr': dtype('int64'),\n",
       " 'KitchenQual': dtype('O'),\n",
       " 'TotRmsAbvGrd': dtype('int64'),\n",
       " 'Functional': dtype('O'),\n",
       " 'Fireplaces': dtype('int64'),\n",
       " 'FireplaceQu': dtype('O'),\n",
       " 'GarageType': dtype('O'),\n",
       " 'GarageYrBlt': dtype('float64'),\n",
       " 'GarageFinish': dtype('O'),\n",
       " 'GarageCars': dtype('int64'),\n",
       " 'GarageArea': dtype('int64'),\n",
       " 'GarageQual': dtype('O'),\n",
       " 'GarageCond': dtype('O'),\n",
       " 'PavedDrive': dtype('O'),\n",
       " 'WoodDeckSF': dtype('int64'),\n",
       " 'OpenPorchSF': dtype('int64'),\n",
       " 'EnclosedPorch': dtype('int64'),\n",
       " '3SsnPorch': dtype('int64'),\n",
       " 'ScreenPorch': dtype('int64'),\n",
       " 'PoolArea': dtype('int64'),\n",
       " 'PoolQC': dtype('O'),\n",
       " 'Fence': dtype('O'),\n",
       " 'MiscFeature': dtype('O'),\n",
       " 'MiscVal': dtype('int64'),\n",
       " 'MoSold': dtype('int64'),\n",
       " 'YrSold': dtype('int64'),\n",
       " 'SaleType': dtype('O'),\n",
       " 'SaleCondition': dtype('O'),\n",
       " 'SalePrice': dtype('int64'),\n",
       " 'logSalePrice': dtype('float64')}"
      ]
     },
     "execution_count": 14,
     "metadata": {},
     "output_type": "execute_result"
    }
   ],
   "source": [
    "train.dtypes.to_dict()"
   ]
  },
  {
   "cell_type": "markdown",
   "id": "07f0da1d",
   "metadata": {},
   "source": [
    "## Target Details"
   ]
  },
  {
   "cell_type": "code",
   "execution_count": 4,
   "id": "3a6414d3",
   "metadata": {},
   "outputs": [
    {
     "data": {
      "text/plain": [
       "<AxesSubplot:>"
      ]
     },
     "execution_count": 4,
     "metadata": {},
     "output_type": "execute_result"
    },
    {
     "data": {
      "image/png": "[encoded data removed]",
      "text/plain": [
       "<Figure size 432x288 with 1 Axes>"
      ]
     },
     "metadata": {
      "needs_background": "light"
     },
     "output_type": "display_data"
    }
   ],
   "source": [
    "train[\"SalePrice\"].hist()"
   ]
  },
  {
   "cell_type": "code",
   "execution_count": 5,
   "id": "91f5a983",
   "metadata": {},
   "outputs": [],
   "source": [
    "train[\"logSalePrice\"] = np.log(train[\"SalePrice\"])"
   ]
  },
  {
   "cell_type": "code",
   "execution_count": 15,
   "id": "65327fc9",
   "metadata": {},
   "outputs": [
    {
     "data": {
      "text/plain": [
       "<AxesSubplot:>"
      ]
     },
     "execution_count": 15,
     "metadata": {},
     "output_type": "execute_result"
    },
    {
     "data": {
      "image/png": "[encoded data removed]",
      "text/plain": [
       "<Figure size 432x288 with 1 Axes>"
      ]
     },
     "metadata": {
      "needs_background": "light"
     },
     "output_type": "display_data"
    }
   ],
   "source": [
    "train[\"logSalePrice\"].hist()"
   ]
  },
  {
   "cell_type": "markdown",
   "id": "3a122d75",
   "metadata": {},
   "source": [
    "# Key Variables"
   ]
  },
  {
   "cell_type": "code",
   "execution_count": 6,
   "id": "99f5814e",
   "metadata": {},
   "outputs": [
    {
     "data": {
      "text/plain": [
       "array([[<AxesSubplot:title={'center':'C (all)'}>,\n",
       "        <AxesSubplot:title={'center':'FV'}>],\n",
       "       [<AxesSubplot:title={'center':'RH'}>,\n",
       "        <AxesSubplot:title={'center':'RL'}>],\n",
       "       [<AxesSubplot:title={'center':'RM'}>, <AxesSubplot:>]],\n",
       "      dtype=object)"
      ]
     },
     "execution_count": 6,
     "metadata": {},
     "output_type": "execute_result"
    },
    {
     "data": {
      "image/png": "[encoded data removed]",
      "text/plain": [
       "<Figure size 432x288 with 6 Axes>"
      ]
     },
     "metadata": {
      "needs_background": "light"
     },
     "output_type": "display_data"
    }
   ],
   "source": [
    "train.hist(column = \"SalePrice\", by=\"MSZoning\")"
   ]
  },
  {
   "cell_type": "code",
   "execution_count": 7,
   "id": "1ceb2284",
   "metadata": {},
   "outputs": [
    {
     "data": {
      "text/plain": [
       "<AxesSubplot:xlabel='SalePrice', ylabel='LotArea'>"
      ]
     },
     "execution_count": 7,
     "metadata": {},
     "output_type": "execute_result"
    },
    {
     "data": {
      "image/png": "[encoded data removed]",
      "text/plain": [
       "<Figure size 432x288 with 1 Axes>"
      ]
     },
     "metadata": {
      "needs_background": "light"
     },
     "output_type": "display_data"
    }
   ],
   "source": [
    "train.plot(x=\"SalePrice\", y=\"LotArea\", kind=\"scatter\")"
   ]
  },
  {
   "cell_type": "code",
   "execution_count": 8,
   "id": "14ac91df",
   "metadata": {},
   "outputs": [
    {
     "data": {
      "text/plain": [
       "<AxesSubplot:xlabel='SalePrice', ylabel='LotFrontage'>"
      ]
     },
     "execution_count": 8,
     "metadata": {},
     "output_type": "execute_result"
    },
    {
     "data": {
      "image/png": "[encoded data removed]",
      "text/plain": [
       "<Figure size 432x288 with 1 Axes>"
      ]
     },
     "metadata": {
      "needs_background": "light"
     },
     "output_type": "display_data"
    }
   ],
   "source": [
    "train.plot(x=\"SalePrice\", y=\"LotFrontage\", kind=\"scatter\")"
   ]
  },
  {
   "cell_type": "code",
   "execution_count": 35,
   "id": "a44b78c3",
   "metadata": {},
   "outputs": [
    {
     "data": {
      "text/plain": [
       "array([[<AxesSubplot:title={'center':'1'}>,\n",
       "        <AxesSubplot:title={'center':'2'}>,\n",
       "        <AxesSubplot:title={'center':'3'}>],\n",
       "       [<AxesSubplot:title={'center':'4'}>,\n",
       "        <AxesSubplot:title={'center':'5'}>,\n",
       "        <AxesSubplot:title={'center':'6'}>],\n",
       "       [<AxesSubplot:title={'center':'7'}>,\n",
       "        <AxesSubplot:title={'center':'8'}>,\n",
       "        <AxesSubplot:title={'center':'9'}>],\n",
       "       [<AxesSubplot:title={'center':'10'}>, <AxesSubplot:>,\n",
       "        <AxesSubplot:>]], dtype=object)"
      ]
     },
     "execution_count": 35,
     "metadata": {},
     "output_type": "execute_result"
    },
    {
     "data": {
      "image/png": "[encoded data removed]",
      "text/plain": [
       "<Figure size 432x288 with 12 Axes>"
      ]
     },
     "metadata": {
      "needs_background": "light"
     },
     "output_type": "display_data"
    }
   ],
   "source": [
    "train.hist(column = \"SalePrice\", by=\"OverallQual\")"
   ]
  },
  {
   "cell_type": "code",
   "execution_count": 38,
   "id": "d8a56f56",
   "metadata": {},
   "outputs": [
    {
     "data": {
      "text/plain": [
       "array([[<AxesSubplot:title={'center':'1'}>,\n",
       "        <AxesSubplot:title={'center':'2'}>,\n",
       "        <AxesSubplot:title={'center':'3'}>],\n",
       "       [<AxesSubplot:title={'center':'4'}>,\n",
       "        <AxesSubplot:title={'center':'5'}>,\n",
       "        <AxesSubplot:title={'center':'6'}>],\n",
       "       [<AxesSubplot:title={'center':'7'}>,\n",
       "        <AxesSubplot:title={'center':'8'}>,\n",
       "        <AxesSubplot:title={'center':'9'}>]], dtype=object)"
      ]
     },
     "execution_count": 38,
     "metadata": {},
     "output_type": "execute_result"
    },
    {
     "data": {
      "image/png": "[encoded data removed]",
      "text/plain": [
       "<Figure size 432x288 with 9 Axes>"
      ]
     },
     "metadata": {
      "needs_background": "light"
     },
     "output_type": "display_data"
    }
   ],
   "source": [
    "train.hist(column = \"SalePrice\", by=\"OverallCond\")"
   ]
  },
  {
   "cell_type": "code",
   "execution_count": null,
   "id": "8c219754",
   "metadata": {},
   "outputs": [],
   "source": []
  }
 ],
 "metadata": {
  "kernelspec": {
   "display_name": "Python 3 (ipykernel)",
   "language": "python",
   "name": "python3"
  },
  "language_info": {
   "codemirror_mode": {
    "name": "ipython",
    "version": 3
   },
   "file_extension": ".py",
   "mimetype": "text/x-python",
   "name": "python",
   "nbconvert_exporter": "python",
   "pygments_lexer": "ipython3",
   "version": "3.8.12"
  },
  "toc": {
   "base_numbering": 1,
   "nav_menu": {},
   "number_sections": true,
   "sideBar": true,
   "skip_h1_title": false,
   "title_cell": "Table of Contents",
   "title_sidebar": "Contents",
   "toc_cell": false,
   "toc_position": {},
   "toc_section_display": true,
   "toc_window_display": false
  }
 },
 "nbformat": 4,
 "nbformat_minor": 5
}
