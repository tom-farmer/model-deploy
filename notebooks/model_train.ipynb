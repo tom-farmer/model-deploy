{
 "cells": [
  {
   "cell_type": "markdown",
   "id": "72b45a7f",
   "metadata": {},
   "source": [
    "# Model Training"
   ]
  },
  {
   "cell_type": "markdown",
   "id": "6ac3b65b",
   "metadata": {},
   "source": [
    "## Packages and Data"
   ]
  },
  {
   "cell_type": "code",
   "execution_count": 1,
   "id": "7879534f",
   "metadata": {},
   "outputs": [],
   "source": [
    "import pandas as pd\n",
    "import sklearn\n",
    "\n",
    "from joblib import dump, load\n",
    "\n",
    "from sklearn import ensemble\n",
    "from sklearn.model_selection import train_test_split"
   ]
  },
  {
   "cell_type": "code",
   "execution_count": 2,
   "id": "43dd9147",
   "metadata": {},
   "outputs": [],
   "source": [
    "train = pd.read_csv(\"../data/train.csv\")\n",
    "X = train.loc[:, train.columns != 'SalePrice']\n",
    "y = train[['SalePrice']]"
   ]
  },
  {
   "cell_type": "code",
   "execution_count": 3,
   "id": "5b36ba5f",
   "metadata": {},
   "outputs": [],
   "source": [
    "X_train, X_test, y_train, y_test = train_test_split(X, y, test_size=0.2, random_state=56)"
   ]
  },
  {
   "cell_type": "code",
   "execution_count": 4,
   "id": "c0f84b17",
   "metadata": {},
   "outputs": [
    {
     "data": {
      "text/plain": [
       "(Index(['Id', 'MSSubClass', 'MSZoning', 'LotFrontage', 'LotArea', 'Street',\n",
       "        'Alley', 'LotShape', 'LandContour', 'Utilities', 'LotConfig',\n",
       "        'LandSlope', 'Neighborhood', 'Condition1', 'Condition2', 'BldgType',\n",
       "        'HouseStyle', 'OverallQual', 'OverallCond', 'YearBuilt', 'YearRemodAdd',\n",
       "        'RoofStyle', 'RoofMatl', 'Exterior1st', 'Exterior2nd', 'MasVnrType',\n",
       "        'MasVnrArea', 'ExterQual', 'ExterCond', 'Foundation', 'BsmtQual',\n",
       "        'BsmtCond', 'BsmtExposure', 'BsmtFinType1', 'BsmtFinSF1',\n",
       "        'BsmtFinType2', 'BsmtFinSF2', 'BsmtUnfSF', 'TotalBsmtSF', 'Heating',\n",
       "        'HeatingQC', 'CentralAir', 'Electrical', '1stFlrSF', '2ndFlrSF',\n",
       "        'LowQualFinSF', 'GrLivArea', 'BsmtFullBath', 'BsmtHalfBath', 'FullBath',\n",
       "        'HalfBath', 'BedroomAbvGr', 'KitchenAbvGr', 'KitchenQual',\n",
       "        'TotRmsAbvGrd', 'Functional', 'Fireplaces', 'FireplaceQu', 'GarageType',\n",
       "        'GarageYrBlt', 'GarageFinish', 'GarageCars', 'GarageArea', 'GarageQual',\n",
       "        'GarageCond', 'PavedDrive', 'WoodDeckSF', 'OpenPorchSF',\n",
       "        'EnclosedPorch', '3SsnPorch', 'ScreenPorch', 'PoolArea', 'PoolQC',\n",
       "        'Fence', 'MiscFeature', 'MiscVal', 'MoSold', 'YrSold', 'SaleType',\n",
       "        'SaleCondition'],\n",
       "       dtype='object'),\n",
       " Index(['SalePrice'], dtype='object'))"
      ]
     },
     "execution_count": 4,
     "metadata": {},
     "output_type": "execute_result"
    }
   ],
   "source": [
    "X.columns, y.columns"
   ]
  },
  {
   "cell_type": "code",
   "execution_count": 5,
   "id": "dc5c1347",
   "metadata": {},
   "outputs": [
    {
     "data": {
      "text/plain": [
       "{'Id': dtype('int64'),\n",
       " 'MSSubClass': dtype('int64'),\n",
       " 'MSZoning': dtype('O'),\n",
       " 'LotFrontage': dtype('float64'),\n",
       " 'LotArea': dtype('int64'),\n",
       " 'Street': dtype('O'),\n",
       " 'Alley': dtype('O'),\n",
       " 'LotShape': dtype('O'),\n",
       " 'LandContour': dtype('O'),\n",
       " 'Utilities': dtype('O'),\n",
       " 'LotConfig': dtype('O'),\n",
       " 'LandSlope': dtype('O'),\n",
       " 'Neighborhood': dtype('O'),\n",
       " 'Condition1': dtype('O'),\n",
       " 'Condition2': dtype('O'),\n",
       " 'BldgType': dtype('O'),\n",
       " 'HouseStyle': dtype('O'),\n",
       " 'OverallQual': dtype('int64'),\n",
       " 'OverallCond': dtype('int64'),\n",
       " 'YearBuilt': dtype('int64'),\n",
       " 'YearRemodAdd': dtype('int64'),\n",
       " 'RoofStyle': dtype('O'),\n",
       " 'RoofMatl': dtype('O'),\n",
       " 'Exterior1st': dtype('O'),\n",
       " 'Exterior2nd': dtype('O'),\n",
       " 'MasVnrType': dtype('O'),\n",
       " 'MasVnrArea': dtype('float64'),\n",
       " 'ExterQual': dtype('O'),\n",
       " 'ExterCond': dtype('O'),\n",
       " 'Foundation': dtype('O'),\n",
       " 'BsmtQual': dtype('O'),\n",
       " 'BsmtCond': dtype('O'),\n",
       " 'BsmtExposure': dtype('O'),\n",
       " 'BsmtFinType1': dtype('O'),\n",
       " 'BsmtFinSF1': dtype('int64'),\n",
       " 'BsmtFinType2': dtype('O'),\n",
       " 'BsmtFinSF2': dtype('int64'),\n",
       " 'BsmtUnfSF': dtype('int64'),\n",
       " 'TotalBsmtSF': dtype('int64'),\n",
       " 'Heating': dtype('O'),\n",
       " 'HeatingQC': dtype('O'),\n",
       " 'CentralAir': dtype('O'),\n",
       " 'Electrical': dtype('O'),\n",
       " '1stFlrSF': dtype('int64'),\n",
       " '2ndFlrSF': dtype('int64'),\n",
       " 'LowQualFinSF': dtype('int64'),\n",
       " 'GrLivArea': dtype('int64'),\n",
       " 'BsmtFullBath': dtype('int64'),\n",
       " 'BsmtHalfBath': dtype('int64'),\n",
       " 'FullBath': dtype('int64'),\n",
       " 'HalfBath': dtype('int64'),\n",
       " 'BedroomAbvGr': dtype('int64'),\n",
       " 'KitchenAbvGr': dtype('int64'),\n",
       " 'KitchenQual': dtype('O'),\n",
       " 'TotRmsAbvGrd': dtype('int64'),\n",
       " 'Functional': dtype('O'),\n",
       " 'Fireplaces': dtype('int64'),\n",
       " 'FireplaceQu': dtype('O'),\n",
       " 'GarageType': dtype('O'),\n",
       " 'GarageYrBlt': dtype('float64'),\n",
       " 'GarageFinish': dtype('O'),\n",
       " 'GarageCars': dtype('int64'),\n",
       " 'GarageArea': dtype('int64'),\n",
       " 'GarageQual': dtype('O'),\n",
       " 'GarageCond': dtype('O'),\n",
       " 'PavedDrive': dtype('O'),\n",
       " 'WoodDeckSF': dtype('int64'),\n",
       " 'OpenPorchSF': dtype('int64'),\n",
       " 'EnclosedPorch': dtype('int64'),\n",
       " '3SsnPorch': dtype('int64'),\n",
       " 'ScreenPorch': dtype('int64'),\n",
       " 'PoolArea': dtype('int64'),\n",
       " 'PoolQC': dtype('O'),\n",
       " 'Fence': dtype('O'),\n",
       " 'MiscFeature': dtype('O'),\n",
       " 'MiscVal': dtype('int64'),\n",
       " 'MoSold': dtype('int64'),\n",
       " 'YrSold': dtype('int64'),\n",
       " 'SaleType': dtype('O'),\n",
       " 'SaleCondition': dtype('O'),\n",
       " 'SalePrice': dtype('int64')}"
      ]
     },
     "execution_count": 5,
     "metadata": {},
     "output_type": "execute_result"
    }
   ],
   "source": [
    "train.dtypes.to_dict()"
   ]
  },
  {
   "cell_type": "markdown",
   "id": "8a538ee9",
   "metadata": {},
   "source": [
    "## Train Initial Model"
   ]
  },
  {
   "cell_type": "code",
   "execution_count": 6,
   "id": "ec370bbb",
   "metadata": {},
   "outputs": [],
   "source": [
    "var_list = ['OverallQual', 'OverallCond', 'TotalBsmtSF', 'FullBath', 'YearBuilt']"
   ]
  },
  {
   "cell_type": "code",
   "execution_count": 7,
   "id": "04e0fab8",
   "metadata": {},
   "outputs": [],
   "source": [
    "model = ensemble.GradientBoostingRegressor(n_estimators = 200,\n",
    "                                           max_depth = 5,\n",
    "                                           learning_rate = 0.05,\n",
    "                                           random_state = 56)"
   ]
  },
  {
   "cell_type": "code",
   "execution_count": 8,
   "id": "b68e3c0d",
   "metadata": {},
   "outputs": [],
   "source": [
    "training_data = X_train[var_list]\n",
    "predictors_metadata = training_data.dtypes.to_dict()"
   ]
  },
  {
   "cell_type": "code",
   "execution_count": 9,
   "id": "0d221a6f",
   "metadata": {
    "scrolled": false
   },
   "outputs": [
    {
     "data": {
      "text/plain": [
       "GradientBoostingRegressor(learning_rate=0.05, max_depth=5, n_estimators=200,\n",
       "                          random_state=56)"
      ]
     },
     "execution_count": 9,
     "metadata": {},
     "output_type": "execute_result"
    }
   ],
   "source": [
    "model.fit(training_data, y_train.values.ravel())"
   ]
  },
  {
   "cell_type": "code",
   "execution_count": 10,
   "id": "b63f4813",
   "metadata": {
    "scrolled": true
   },
   "outputs": [
    {
     "data": {
      "text/plain": [
       "0.7084299719372535"
      ]
     },
     "execution_count": 10,
     "metadata": {},
     "output_type": "execute_result"
    }
   ],
   "source": [
    "model.score(X_test[var_list], y_test)"
   ]
  },
  {
   "cell_type": "code",
   "execution_count": 11,
   "id": "6a42424d",
   "metadata": {},
   "outputs": [
    {
     "data": {
      "text/plain": [
       "['../models/model1_predictors_metadata.joblib']"
      ]
     },
     "execution_count": 11,
     "metadata": {},
     "output_type": "execute_result"
    }
   ],
   "source": [
    "# Write out the model itself, along with the variable list\n",
    "dump(model, \"../models/model1.joblib\")\n",
    "dump(predictors_metadata, \"../models/model1_predictors_metadata.joblib\")"
   ]
  },
  {
   "cell_type": "code",
   "execution_count": 12,
   "id": "78b631b9",
   "metadata": {},
   "outputs": [],
   "source": [
    "# Test reading in the serialized objects\n",
    "#model2 = load(\"../models/model1.joblib\")\n",
    "#metadata = load(\"../models/model1_predictors_metadata.joblib\")"
   ]
  },
  {
   "cell_type": "markdown",
   "id": "c2d16900",
   "metadata": {},
   "source": [
    "## Train Better Model\n",
    "Explore things like:\n",
    " - additional data\n",
    " - predict log sale price\n",
    " - group string data"
   ]
  },
  {
   "cell_type": "code",
   "execution_count": null,
   "id": "b8209c59",
   "metadata": {},
   "outputs": [],
   "source": []
  },
  {
   "cell_type": "code",
   "execution_count": null,
   "id": "dd1eb833",
   "metadata": {},
   "outputs": [],
   "source": []
  }
 ],
 "metadata": {
  "kernelspec": {
   "display_name": "Python 3 (ipykernel)",
   "language": "python",
   "name": "python3"
  },
  "language_info": {
   "codemirror_mode": {
    "name": "ipython",
    "version": 3
   },
   "file_extension": ".py",
   "mimetype": "text/x-python",
   "name": "python",
   "nbconvert_exporter": "python",
   "pygments_lexer": "ipython3",
   "version": "3.8.12"
  },
  "toc": {
   "base_numbering": 1,
   "nav_menu": {},
   "number_sections": true,
   "sideBar": true,
   "skip_h1_title": false,
   "title_cell": "Table of Contents",
   "title_sidebar": "Contents",
   "toc_cell": false,
   "toc_position": {},
   "toc_section_display": true,
   "toc_window_display": false
  }
 },
 "nbformat": 4,
 "nbformat_minor": 5
}
